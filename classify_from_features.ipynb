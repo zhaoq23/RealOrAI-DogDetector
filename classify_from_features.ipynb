{
 "cells": [
  {
   "cell_type": "code",
   "execution_count": null,
   "id": "5ac58323",
   "metadata": {},
   "outputs": [],
   "source": [
    "!pip install ipywidgets --quiet\n",
    "\n",
    "import torch\n",
    "from torch.utils.data import DataLoader\n",
    "from IPython.display import display\n",
    "import ipywidgets as widgets\n",
    "from models import BayesianMLP\n",
    "\n",
    "device = torch.device(\"cuda\" if torch.cuda.is_available() else \"cpu\")\n"
   ]
  },
  {
   "cell_type": "code",
   "execution_count": null,
   "id": "ae476ed4",
   "metadata": {},
   "outputs": [],
   "source": [
    "def load_model(model_path=\"plusdiff_model.pt\"):\n",
    "    model = BayesianMLP()\n",
    "    model.load_state_dict(torch.load(model_path, map_location=device))\n",
    "    model.eval()\n",
    "    return model\n"
   ]
  },
  {
   "cell_type": "code",
   "execution_count": null,
   "id": "4ee3a465",
   "metadata": {},
   "outputs": [],
   "source": [
    "def classify_feature_tensor(tensor, model):\n",
    "    tensor = tensor.to(device)\n",
    "    with torch.no_grad():\n",
    "        output = model(tensor)\n",
    "        prob = torch.sigmoid(output).item()\n",
    "        prediction = \"AI-GENERATED 🤖\" if prob >= 0.5 else \"REAL 🐶\"\n",
    "        print(f\"Prediction: {prediction}  |  Probability: {prob:.2f}\")\n"
   ]
  },
  {
   "cell_type": "code",
   "execution_count": null,
   "id": "8593ec44",
   "metadata": {},
   "outputs": [],
   "source": [
    "upload = widgets.FileUpload(accept='.pt', multiple=False)\n",
    "\n",
    "def on_upload_change(change):\n",
    "    if upload.value:\n",
    "        file_info = next(iter(upload.value.values()))\n",
    "        # Save uploaded file\n",
    "        with open(\"temp.pt\", \"wb\") as f:\n",
    "            f.write(file_info['content'])\n",
    "\n",
    "        # Load tensor\n",
    "        tensor = torch.load(\"temp.pt\")\n",
    "        if len(tensor.shape) == 1:\n",
    "            tensor = tensor.unsqueeze(0)  # Add batch dimension if needed\n",
    "\n",
    "        # Load model and classify\n",
    "        model = load_model()\n",
    "        classify_feature_tensor(tensor, model)\n",
    "\n",
    "upload.observe(on_upload_change, names='value')\n",
    "display(upload)\n"
   ]
  }
 ],
 "metadata": {},
 "nbformat": 4,
 "nbformat_minor": 5
}
