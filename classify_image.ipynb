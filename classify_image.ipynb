{
  "nbformat": 4,
  "nbformat_minor": 0,
  "metadata": {
    "colab": {
      "provenance": []
    },
    "kernelspec": {
      "name": "python3",
      "display_name": "Python 3"
    },
    "language_info": {
      "name": "python"
    }
  },
  "cells": [
    {
      "cell_type": "code",
      "execution_count": null,
      "metadata": {
        "id": "I7Tw2UbqaKL8"
      },
      "outputs": [],
      "source": [
        "# ⬛ Step 1: Setup\n",
        "!pip install ipywidgets --quiet\n",
        "\n",
        "import torch\n",
        "from torchvision import transforms\n",
        "from PIL import Image\n",
        "from IPython.display import display\n",
        "import io\n",
        "import ipywidgets as widgets\n",
        "from models import BayesianMLP\n",
        "\n",
        "device = torch.device(\"cuda\" if torch.cuda.is_available() else \"cpu\")\n",
        "\n",
        "# ⬛ Step 2: Load image and preprocess\n",
        "def preprocess_image(image):\n",
        "    transform = transforms.Compose([\n",
        "        transforms.Resize((224, 224)),\n",
        "        transforms.ToTensor()\n",
        "    ])\n",
        "    return transform(image).unsqueeze(0)\n",
        "\n",
        "# ⬛ Step 3: Load trained model\n",
        "def load_model():\n",
        "    model = BayesianMLP()\n",
        "    model.load_state_dict(torch.load(\"plusdiff_model.pt\", map_location=device))\n",
        "    model.eval()\n",
        "    return model\n",
        "\n",
        "# ⬛ Step 4: Classify image\n",
        "def classify_uploaded_image(image_bytes, model):\n",
        "    image = Image.open(io.BytesIO(image_bytes)).convert(\"RGB\")\n",
        "    image_tensor = preprocess_image(image).to(device)\n",
        "    with torch.no_grad():\n",
        "        output = model(image_tensor)\n",
        "        prediction = torch.argmax(output, dim=1).item()\n",
        "        label = \"REAL 🐶\" if prediction == 0 else \"AI-GENERATED 🤖\"\n",
        "        print(f\"Prediction: {label}\")\n",
        "        display(image)\n",
        "\n",
        "# ⬛ Step 5: Upload widget\n",
        "upload = widgets.FileUpload(accept='image/*', multiple=False)\n",
        "\n",
        "def on_upload_change(change):\n",
        "    if upload.value:\n",
        "        image_info = next(iter(upload.value.values()))\n",
        "        model = load_model()\n",
        "        classify_uploaded_image(image_info['content'], model)\n",
        "\n",
        "upload.observe(on_upload_change, names='value')\n",
        "display(upload)\n"
      ]
    }
  ]
}