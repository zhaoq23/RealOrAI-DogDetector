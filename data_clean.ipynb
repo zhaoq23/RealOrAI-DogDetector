{
 "cells": [
  {
   "cell_type": "markdown",
   "id": "71849eb7",
   "metadata": {},
   "source": [
    "# Final Project"
   ]
  },
  {
   "cell_type": "markdown",
   "id": "0903e101",
   "metadata": {},
   "source": [
    "## Environment Setup"
   ]
  },
  {
   "cell_type": "code",
   "execution_count": 8,
   "id": "3a309623",
   "metadata": {},
   "outputs": [],
   "source": [
    "import os\n",
    "from PIL import Image\n",
    "from tqdm import tqdm\n",
    "import torch\n",
    "from torch.utils.data import Dataset, DataLoader\n",
    "from torchvision import transforms\n",
    "from transformers import AutoFeatureExtractor, AutoModel"
   ]
  },
  {
   "cell_type": "markdown",
   "id": "fa3e6d46",
   "metadata": {},
   "source": [
    "## Custom DogVsAi Dataset Class"
   ]
  },
  {
   "cell_type": "code",
   "execution_count": 12,
   "id": "51fed5c3",
   "metadata": {},
   "outputs": [],
   "source": [
    "class DogVsAiDataset(Dataset):\n",
    "    def __init__(self, root_dir, transform=None):\n",
    "        self.image_dir = os.path.join(root_dir, \"Images\")\n",
    "        self.label_dir = os.path.join(root_dir, \"Labels\")\n",
    "        self.transform = transform\n",
    "        self.image_names = [f.split('.')[0] for f in os.listdir(self.image_dir) if f.endswith('.jpg')]\n",
    "\n",
    "    def __len__(self):\n",
    "        return len(self.image_names)\n",
    "\n",
    "    def __getitem__(self, idx):\n",
    "        name = self.image_names[idx]\n",
    "        image_path = os.path.join(self.image_dir, name + '.jpg')\n",
    "        label_path = os.path.join(self.label_dir, name + '.txt')\n",
    "\n",
    "        image = Image.open(image_path).convert(\"RGB\")\n",
    "        if self.transform:\n",
    "            image = self.transform(image)\n",
    "\n",
    "        with open(label_path, 'r') as f:\n",
    "            label = int(f.read().strip())\n",
    "\n",
    "        return image, label"
   ]
  },
  {
   "cell_type": "markdown",
   "id": "64c6970a",
   "metadata": {},
   "source": [
    "## ViT Feature Extractor Setup: Image Transformations and DINO Model Initialization"
   ]
  },
  {
   "cell_type": "code",
   "execution_count": 10,
   "id": "cb4cdc41",
   "metadata": {},
   "outputs": [
    {
     "data": {
      "application/vnd.jupyter.widget-view+json": {
       "model_id": "0445129a41d840b88f10499fd0ceb2db",
       "version_major": 2,
       "version_minor": 0
      },
      "text/plain": [
       "preprocessor_config.json:   0%|          | 0.00/244 [00:00<?, ?B/s]"
      ]
     },
     "metadata": {},
     "output_type": "display_data"
    },
    {
     "name": "stderr",
     "output_type": "stream",
     "text": [
      "d:\\software\\anaconda\\envs\\ml\\Lib\\site-packages\\huggingface_hub\\file_download.py:143: UserWarning: `huggingface_hub` cache-system uses symlinks by default to efficiently store duplicated files but your machine does not support them in C:\\Users\\ZhaoQ\\.cache\\huggingface\\hub\\models--facebook--dino-vits16. Caching files will still work but in a degraded version that might require more space on your disk. This warning can be disabled by setting the `HF_HUB_DISABLE_SYMLINKS_WARNING` environment variable. For more details, see https://huggingface.co/docs/huggingface_hub/how-to-cache#limitations.\n",
      "To support symlinks on Windows, you either need to activate Developer Mode or to run Python as an administrator. In order to activate developer mode, see this article: https://docs.microsoft.com/en-us/windows/apps/get-started/enable-your-device-for-development\n",
      "  warnings.warn(message)\n",
      "d:\\software\\anaconda\\envs\\ml\\Lib\\site-packages\\transformers\\models\\vit\\feature_extraction_vit.py:28: FutureWarning: The class ViTFeatureExtractor is deprecated and will be removed in version 5 of Transformers. Please use ViTImageProcessor instead.\n",
      "  warnings.warn(\n"
     ]
    },
    {
     "data": {
      "application/vnd.jupyter.widget-view+json": {
       "model_id": "0860418b0aa546fbadd432c61d764f99",
       "version_major": 2,
       "version_minor": 0
      },
      "text/plain": [
       "config.json:   0%|          | 0.00/453 [00:00<?, ?B/s]"
      ]
     },
     "metadata": {},
     "output_type": "display_data"
    },
    {
     "data": {
      "application/vnd.jupyter.widget-view+json": {
       "model_id": "e5106c573a2c40fc803a5da3a0807616",
       "version_major": 2,
       "version_minor": 0
      },
      "text/plain": [
       "pytorch_model.bin:   0%|          | 0.00/86.7M [00:00<?, ?B/s]"
      ]
     },
     "metadata": {},
     "output_type": "display_data"
    },
    {
     "name": "stderr",
     "output_type": "stream",
     "text": [
      "Some weights of ViTModel were not initialized from the model checkpoint at facebook/dino-vits16 and are newly initialized: ['pooler.dense.bias', 'pooler.dense.weight']\n",
      "You should probably TRAIN this model on a down-stream task to be able to use it for predictions and inference.\n"
     ]
    },
    {
     "data": {
      "text/plain": [
       "ViTModel(\n",
       "  (embeddings): ViTEmbeddings(\n",
       "    (patch_embeddings): ViTPatchEmbeddings(\n",
       "      (projection): Conv2d(3, 384, kernel_size=(16, 16), stride=(16, 16))\n",
       "    )\n",
       "    (dropout): Dropout(p=0.0, inplace=False)\n",
       "  )\n",
       "  (encoder): ViTEncoder(\n",
       "    (layer): ModuleList(\n",
       "      (0-11): 12 x ViTLayer(\n",
       "        (attention): ViTAttention(\n",
       "          (attention): ViTSelfAttention(\n",
       "            (query): Linear(in_features=384, out_features=384, bias=True)\n",
       "            (key): Linear(in_features=384, out_features=384, bias=True)\n",
       "            (value): Linear(in_features=384, out_features=384, bias=True)\n",
       "          )\n",
       "          (output): ViTSelfOutput(\n",
       "            (dense): Linear(in_features=384, out_features=384, bias=True)\n",
       "            (dropout): Dropout(p=0.0, inplace=False)\n",
       "          )\n",
       "        )\n",
       "        (intermediate): ViTIntermediate(\n",
       "          (dense): Linear(in_features=384, out_features=1536, bias=True)\n",
       "          (intermediate_act_fn): GELUActivation()\n",
       "        )\n",
       "        (output): ViTOutput(\n",
       "          (dense): Linear(in_features=1536, out_features=384, bias=True)\n",
       "          (dropout): Dropout(p=0.0, inplace=False)\n",
       "        )\n",
       "        (layernorm_before): LayerNorm((384,), eps=1e-12, elementwise_affine=True)\n",
       "        (layernorm_after): LayerNorm((384,), eps=1e-12, elementwise_affine=True)\n",
       "      )\n",
       "    )\n",
       "  )\n",
       "  (layernorm): LayerNorm((384,), eps=1e-12, elementwise_affine=True)\n",
       "  (pooler): ViTPooler(\n",
       "    (dense): Linear(in_features=384, out_features=384, bias=True)\n",
       "    (activation): Tanh()\n",
       "  )\n",
       ")"
      ]
     },
     "execution_count": 10,
     "metadata": {},
     "output_type": "execute_result"
    },
    {
     "data": {
      "application/vnd.jupyter.widget-view+json": {
       "model_id": "5776ac715a8a4cd1a3c5946c0fe9f521",
       "version_major": 2,
       "version_minor": 0
      },
      "text/plain": [
       "model.safetensors:   0%|          | 0.00/86.7M [00:00<?, ?B/s]"
      ]
     },
     "metadata": {},
     "output_type": "display_data"
    }
   ],
   "source": [
    "transform = transforms.Compose([\n",
    "    transforms.Resize((128, 128)),\n",
    "    transforms.ToTensor(),\n",
    "])\n",
    "\n",
    "device = torch.device(\"cuda\" if torch.cuda.is_available() else \"cpu\")\n",
    "\n",
    "dino_model_name = \"facebook/dino-vits16\"\n",
    "feature_extractor = AutoFeatureExtractor.from_pretrained(dino_model_name)\n",
    "dino_model = AutoModel.from_pretrained(dino_model_name).to(device)\n",
    "dino_model.eval()"
   ]
  },
  {
   "cell_type": "markdown",
   "id": "110ed9c8",
   "metadata": {},
   "source": [
    "## Feature Extraction Pipeline and Dataset Processing"
   ]
  },
  {
   "cell_type": "code",
   "execution_count": 16,
   "id": "aaa0770b",
   "metadata": {},
   "outputs": [
    {
     "name": "stdout",
     "output_type": "stream",
     "text": [
      "\n",
      "=== Processing dataset: FULL ===\n",
      "Train: 18605 | Val: 5317 | Test: 2658\n"
     ]
    },
    {
     "name": "stderr",
     "output_type": "stream",
     "text": [
      "Extracting train_full:   0%|          | 0/1163 [00:00<?, ?it/s]d:\\software\\anaconda\\envs\\ml\\Lib\\site-packages\\transformers\\image_processing_utils.py:42: UserWarning: The following named arguments are not valid for `ViTFeatureExtractor.preprocess` and were ignored: 'padding'\n",
      "  return self.preprocess(images, **kwargs)\n",
      "Extracting train_full: 100%|██████████| 1163/1163 [26:14<00:00,  1.35s/it]\n"
     ]
    },
    {
     "name": "stdout",
     "output_type": "stream",
     "text": [
      "Saved: features_train_full.pt | Shape: torch.Size([18605, 384])\n"
     ]
    },
    {
     "name": "stderr",
     "output_type": "stream",
     "text": [
      "Extracting val_full: 100%|██████████| 333/333 [09:19<00:00,  1.68s/it]\n"
     ]
    },
    {
     "name": "stdout",
     "output_type": "stream",
     "text": [
      "Saved: features_val_full.pt | Shape: torch.Size([5317, 384])\n"
     ]
    },
    {
     "name": "stderr",
     "output_type": "stream",
     "text": [
      "Extracting test_full: 100%|██████████| 167/167 [04:06<00:00,  1.48s/it]\n"
     ]
    },
    {
     "name": "stdout",
     "output_type": "stream",
     "text": [
      "Saved: features_test_full.pt | Shape: torch.Size([2658, 384])\n",
      "\n",
      "=== Processing dataset: CUTTED ===\n",
      "Train: 344 | Val: 100 | Test: 50\n"
     ]
    },
    {
     "name": "stderr",
     "output_type": "stream",
     "text": [
      "Extracting train_cutted: 100%|██████████| 22/22 [00:24<00:00,  1.11s/it]\n"
     ]
    },
    {
     "name": "stdout",
     "output_type": "stream",
     "text": [
      "Saved: features_train_cutted.pt | Shape: torch.Size([344, 384])\n"
     ]
    },
    {
     "name": "stderr",
     "output_type": "stream",
     "text": [
      "Extracting val_cutted: 100%|██████████| 7/7 [00:07<00:00,  1.02s/it]\n"
     ]
    },
    {
     "name": "stdout",
     "output_type": "stream",
     "text": [
      "Saved: features_val_cutted.pt | Shape: torch.Size([100, 384])\n"
     ]
    },
    {
     "name": "stderr",
     "output_type": "stream",
     "text": [
      "Extracting test_cutted: 100%|██████████| 4/4 [00:03<00:00,  1.10it/s]"
     ]
    },
    {
     "name": "stdout",
     "output_type": "stream",
     "text": [
      "Saved: features_test_cutted.pt | Shape: torch.Size([50, 384])\n"
     ]
    },
    {
     "name": "stderr",
     "output_type": "stream",
     "text": [
      "\n"
     ]
    }
   ],
   "source": [
    "# ======================\n",
    "# Feature Engineering\n",
    "# ======================\n",
    "def extract_and_save_features(dataloader, name_prefix):\n",
    "    all_features = []\n",
    "    all_labels = []\n",
    "\n",
    "    for images, labels in tqdm(dataloader, desc=f\"Extracting {name_prefix}\"):\n",
    "        images = [transforms.ToPILImage()(img) for img in images]\n",
    "        inputs = feature_extractor(images=images, return_tensors=\"pt\", padding=True).to(device)\n",
    "\n",
    "        with torch.no_grad():\n",
    "            outputs = dino_model(**inputs)\n",
    "            features = outputs.last_hidden_state.mean(dim=1)\n",
    "\n",
    "        all_features.append(features.cpu())\n",
    "        all_labels.append(labels)\n",
    "\n",
    "    all_features = torch.cat(all_features)\n",
    "    all_labels = torch.cat(all_labels)\n",
    "\n",
    "    save_path = f\"features_{name_prefix}.pt\"\n",
    "    torch.save((all_features, all_labels), save_path)\n",
    "    print(f\"Saved: {save_path} | Shape: {all_features.shape}\")\n",
    "\n",
    "# ======================\n",
    "# Process dataset\n",
    "# ======================\n",
    "def process_dataset(base_path, suffix):\n",
    "    print(f\"\\n=== Processing dataset: {suffix.upper()} ===\")\n",
    "    train_dataset = DogVsAiDataset(os.path.join(base_path, \"Train\"), transform=transform)\n",
    "    val_dataset   = DogVsAiDataset(os.path.join(base_path, \"Valid\"), transform=transform)\n",
    "    test_dataset  = DogVsAiDataset(os.path.join(base_path, \"Test\"), transform=transform)\n",
    "\n",
    "    train_loader = DataLoader(train_dataset, batch_size=16, shuffle=True)\n",
    "    val_loader   = DataLoader(val_dataset, batch_size=16, shuffle=False)\n",
    "    test_loader  = DataLoader(test_dataset, batch_size=16, shuffle=False)\n",
    "\n",
    "    print(f\"Train: {len(train_dataset)} | Val: {len(val_dataset)} | Test: {len(test_dataset)}\")\n",
    "\n",
    "    extract_and_save_features(train_loader, f\"train_{suffix}\")\n",
    "    extract_and_save_features(val_loader, f\"val_{suffix}\")\n",
    "    extract_and_save_features(test_loader, f\"test_{suffix}\")\n",
    "\n",
    "# ======================\n",
    "# Get features\n",
    "# ======================\n",
    "process_dataset(\"archive/Dogs Vs AiDogs\", \"full\")\n",
    "process_dataset(\"archive/Dogs Vs AiDogs_CUTTED\", \"cutted\")"
   ]
  }
 ],
 "metadata": {
  "kernelspec": {
   "display_name": "ml",
   "language": "python",
   "name": "python3"
  },
  "language_info": {
   "codemirror_mode": {
    "name": "ipython",
    "version": 3
   },
   "file_extension": ".py",
   "mimetype": "text/x-python",
   "name": "python",
   "nbconvert_exporter": "python",
   "pygments_lexer": "ipython3",
   "version": "3.11.9"
  }
 },
 "nbformat": 4,
 "nbformat_minor": 5
}
