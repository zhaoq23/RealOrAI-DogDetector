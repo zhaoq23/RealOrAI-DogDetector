{
 "cells": [
  {
   "cell_type": "markdown",
   "id": "71849eb7",
   "metadata": {},
   "source": [
    "# Final Project"
   ]
  },
  {
   "cell_type": "markdown",
   "id": "0903e101",
   "metadata": {},
   "source": [
    "## Environment Setup"
   ]
  },
  {
   "cell_type": "code",
   "execution_count": 2,
   "id": "3a309623",
   "metadata": {},
   "outputs": [],
   "source": [
    "import os\n",
    "from PIL import Image\n",
    "from tqdm import tqdm\n",
    "import torch\n",
    "from torch.utils.data import Dataset, DataLoader\n",
    "from torchvision import transforms\n",
    "from transformers import AutoFeatureExtractor, AutoModel"
   ]
  },
  {
   "cell_type": "markdown",
   "id": "fa3e6d46",
   "metadata": {},
   "source": [
    "## Custom DogVsAi Dataset Class"
   ]
  },
  {
   "cell_type": "code",
   "execution_count": 3,
   "id": "51fed5c3",
   "metadata": {},
   "outputs": [],
   "source": [
    "class DogVsAiDataset(Dataset):\n",
    "    def __init__(self, root_dir, transform=None):\n",
    "        self.image_dir = os.path.join(root_dir, \"Images\")\n",
    "        self.label_dir = os.path.join(root_dir, \"Labels\")\n",
    "        self.transform = transform\n",
    "        self.image_names = [f.split('.')[0] for f in os.listdir(self.image_dir) if f.endswith('.jpg')]\n",
    "\n",
    "    def __len__(self):\n",
    "        return len(self.image_names)\n",
    "\n",
    "    def __getitem__(self, idx):\n",
    "        name = self.image_names[idx]\n",
    "        image_path = os.path.join(self.image_dir, name + '.jpg')\n",
    "        label_path = os.path.join(self.label_dir, name + '.txt')\n",
    "\n",
    "        image = Image.open(image_path).convert(\"RGB\")\n",
    "        if self.transform:\n",
    "            image = self.transform(image)\n",
    "\n",
    "        with open(label_path, 'r') as f:\n",
    "            label = int(f.read().strip())\n",
    "\n",
    "        return image, label"
   ]
  },
  {
   "cell_type": "markdown",
   "id": "64c6970a",
   "metadata": {},
   "source": [
    "## ViT Feature Extractor Setup: Image Transformations and DINO Model Initialization"
   ]
  },
  {
   "cell_type": "code",
   "execution_count": 4,
   "id": "cb4cdc41",
   "metadata": {},
   "outputs": [
    {
     "name": "stderr",
     "output_type": "stream",
     "text": [
      "/Library/Frameworks/Python.framework/Versions/3.12/lib/python3.12/site-packages/transformers/models/vit/feature_extraction_vit.py:28: FutureWarning: The class ViTFeatureExtractor is deprecated and will be removed in version 5 of Transformers. Please use ViTImageProcessor instead.\n",
      "  warnings.warn(\n",
      "Some weights of ViTModel were not initialized from the model checkpoint at facebook/dino-vits16 and are newly initialized: ['pooler.dense.bias', 'pooler.dense.weight']\n",
      "You should probably TRAIN this model on a down-stream task to be able to use it for predictions and inference.\n"
     ]
    },
    {
     "data": {
      "text/plain": [
       "ViTModel(\n",
       "  (embeddings): ViTEmbeddings(\n",
       "    (patch_embeddings): ViTPatchEmbeddings(\n",
       "      (projection): Conv2d(3, 384, kernel_size=(16, 16), stride=(16, 16))\n",
       "    )\n",
       "    (dropout): Dropout(p=0.0, inplace=False)\n",
       "  )\n",
       "  (encoder): ViTEncoder(\n",
       "    (layer): ModuleList(\n",
       "      (0-11): 12 x ViTLayer(\n",
       "        (attention): ViTSdpaAttention(\n",
       "          (attention): ViTSdpaSelfAttention(\n",
       "            (query): Linear(in_features=384, out_features=384, bias=True)\n",
       "            (key): Linear(in_features=384, out_features=384, bias=True)\n",
       "            (value): Linear(in_features=384, out_features=384, bias=True)\n",
       "            (dropout): Dropout(p=0.0, inplace=False)\n",
       "          )\n",
       "          (output): ViTSelfOutput(\n",
       "            (dense): Linear(in_features=384, out_features=384, bias=True)\n",
       "            (dropout): Dropout(p=0.0, inplace=False)\n",
       "          )\n",
       "        )\n",
       "        (intermediate): ViTIntermediate(\n",
       "          (dense): Linear(in_features=384, out_features=1536, bias=True)\n",
       "          (intermediate_act_fn): GELUActivation()\n",
       "        )\n",
       "        (output): ViTOutput(\n",
       "          (dense): Linear(in_features=1536, out_features=384, bias=True)\n",
       "          (dropout): Dropout(p=0.0, inplace=False)\n",
       "        )\n",
       "        (layernorm_before): LayerNorm((384,), eps=1e-12, elementwise_affine=True)\n",
       "        (layernorm_after): LayerNorm((384,), eps=1e-12, elementwise_affine=True)\n",
       "      )\n",
       "    )\n",
       "  )\n",
       "  (layernorm): LayerNorm((384,), eps=1e-12, elementwise_affine=True)\n",
       "  (pooler): ViTPooler(\n",
       "    (dense): Linear(in_features=384, out_features=384, bias=True)\n",
       "    (activation): Tanh()\n",
       "  )\n",
       ")"
      ]
     },
     "execution_count": 4,
     "metadata": {},
     "output_type": "execute_result"
    }
   ],
   "source": [
    "transform = transforms.Compose([\n",
    "    transforms.Resize((128, 128)),\n",
    "    transforms.ToTensor(),\n",
    "])\n",
    "\n",
    "device = torch.device(\"cuda\" if torch.cuda.is_available() else \"cpu\")\n",
    "\n",
    "dino_model_name = \"facebook/dino-vits16\"\n",
    "feature_extractor = AutoFeatureExtractor.from_pretrained(dino_model_name)\n",
    "dino_model = AutoModel.from_pretrained(dino_model_name).to(device)\n",
    "dino_model.eval()"
   ]
  },
  {
   "cell_type": "markdown",
   "id": "110ed9c8",
   "metadata": {},
   "source": [
    "## Feature Extraction Pipeline and Dataset Processing"
   ]
  },
  {
   "cell_type": "code",
   "execution_count": 5,
   "id": "aaa0770b",
   "metadata": {},
   "outputs": [
    {
     "name": "stdout",
     "output_type": "stream",
     "text": [
      "\n",
      "=== Processing dataset: FULL ===\n",
      "Train: 18605 | Val: 5317 | Test: 2658\n"
     ]
    },
    {
     "name": "stderr",
     "output_type": "stream",
     "text": [
      "Extracting train_full:   0%|          | 0/1163 [00:00<?, ?it/s]/Library/Frameworks/Python.framework/Versions/3.12/lib/python3.12/site-packages/transformers/image_processing_utils.py:41: UserWarning: The following named arguments are not valid for `ViTFeatureExtractor.preprocess` and were ignored: 'padding'\n",
      "  return self.preprocess(images, **kwargs)\n",
      "Extracting train_full: 100%|██████████| 1163/1163 [05:36<00:00,  3.46it/s]\n"
     ]
    },
    {
     "name": "stdout",
     "output_type": "stream",
     "text": [
      "Saved: features_train_full.pt | Shape: torch.Size([18605, 384])\n"
     ]
    },
    {
     "name": "stderr",
     "output_type": "stream",
     "text": [
      "Extracting val_full: 100%|██████████| 333/333 [01:40<00:00,  3.30it/s]\n"
     ]
    },
    {
     "name": "stdout",
     "output_type": "stream",
     "text": [
      "Saved: features_val_full.pt | Shape: torch.Size([5317, 384])\n"
     ]
    },
    {
     "name": "stderr",
     "output_type": "stream",
     "text": [
      "Extracting test_full: 100%|██████████| 167/167 [00:51<00:00,  3.27it/s]"
     ]
    },
    {
     "name": "stdout",
     "output_type": "stream",
     "text": [
      "Saved: features_test_full.pt | Shape: torch.Size([2658, 384])\n"
     ]
    },
    {
     "name": "stderr",
     "output_type": "stream",
     "text": [
      "\n"
     ]
    }
   ],
   "source": [
    "# ======================\n",
    "# Feature Engineering\n",
    "# ======================\n",
    "def extract_and_save_features(dataloader, name_prefix):\n",
    "    all_features = []\n",
    "    all_labels = []\n",
    "\n",
    "    for images, labels in tqdm(dataloader, desc=f\"Extracting {name_prefix}\"):\n",
    "        images = [transforms.ToPILImage()(img) for img in images]\n",
    "        inputs = feature_extractor(images=images, return_tensors=\"pt\", padding=True).to(device)\n",
    "\n",
    "        with torch.no_grad():\n",
    "            outputs = dino_model(**inputs)\n",
    "            features = outputs.last_hidden_state.mean(dim=1)\n",
    "\n",
    "        all_features.append(features.cpu())\n",
    "        all_labels.append(labels)\n",
    "\n",
    "    all_features = torch.cat(all_features)\n",
    "    all_labels = torch.cat(all_labels)\n",
    "\n",
    "    save_path = f\"features_{name_prefix}.pt\"\n",
    "    torch.save((all_features, all_labels), save_path)\n",
    "    print(f\"Saved: {save_path} | Shape: {all_features.shape}\")\n",
    "\n",
    "# ======================\n",
    "# Process dataset\n",
    "# ======================\n",
    "def process_dataset(base_path, suffix):\n",
    "    print(f\"\\n=== Processing dataset: {suffix.upper()} ===\")\n",
    "    train_dataset = DogVsAiDataset(os.path.join(base_path, \"Train\"), transform=transform)\n",
    "    val_dataset   = DogVsAiDataset(os.path.join(base_path, \"Valid\"), transform=transform)\n",
    "    test_dataset  = DogVsAiDataset(os.path.join(base_path, \"Test\"), transform=transform)\n",
    "\n",
    "    train_loader = DataLoader(train_dataset, batch_size=16, shuffle=True)\n",
    "    val_loader   = DataLoader(val_dataset, batch_size=16, shuffle=False)\n",
    "    test_loader  = DataLoader(test_dataset, batch_size=16, shuffle=False)\n",
    "\n",
    "    print(f\"Train: {len(train_dataset)} | Val: {len(val_dataset)} | Test: {len(test_dataset)}\")\n",
    "\n",
    "    extract_and_save_features(train_loader, f\"train_{suffix}\")\n",
    "    extract_and_save_features(val_loader, f\"val_{suffix}\")\n",
    "    extract_and_save_features(test_loader, f\"test_{suffix}\")\n",
    "\n",
    "# ======================\n",
    "# Get features\n",
    "# ======================\n",
    "process_dataset(\"archive/Dogs Vs AiDogs\", \"full\")\n",
    "# process_dataset(\"archive/Dogs Vs AiDogs_CUTTED\", \"cutted\")"
   ]
  },
  {
   "cell_type": "code",
   "execution_count": 6,
   "id": "3ec6b234",
   "metadata": {},
   "outputs": [
    {
     "name": "stdout",
     "output_type": "stream",
     "text": [
      "torch.Size([18605, 384])\n"
     ]
    }
   ],
   "source": [
    "features, labels = torch.load(\"features_train_full.pt\")\n",
    "print(features.shape)"
   ]
  },
  {
   "cell_type": "markdown",
   "id": "0e4d4029",
   "metadata": {},
   "source": [
    "# Simple CNN Architecture with Dropout"
   ]
  },
  {
   "cell_type": "code",
   "execution_count": 7,
   "id": "7bf97b2f",
   "metadata": {},
   "outputs": [],
   "source": [
    "import torch.nn as nn\n",
    "import torchvision.models as models\n",
    "\n",
    "class SimpleCNN(nn.Module):\n",
    "    def __init__(self, num_classes=2, dropout_rate=0.5):\n",
    "        super(SimpleCNN, self).__init__()\n",
    "        self.net = nn.Sequential(\n",
    "            nn.Linear(384, 128),\n",
    "            nn.BatchNorm1d(128),\n",
    "            nn.ReLU(),\n",
    "            nn.Dropout(dropout_rate),\n",
    "\n",
    "            nn.Linear(128, 64),\n",
    "            nn.BatchNorm1d(64),\n",
    "            nn.ReLU(),\n",
    "            nn.Dropout(dropout_rate),\n",
    "\n",
    "            nn.Linear(64, num_classes)\n",
    "        )\n",
    "\n",
    "    def forward(self, x):\n",
    "        return self.net(x)\n",
    "\n",
    "def load_model(model_type=\"simple\", num_classes=2, dropout_rate=0.5):\n",
    "    return SimpleCNN(num_classes, dropout_rate)"
   ]
  }
 ],
 "metadata": {
  "kernelspec": {
   "display_name": "ml",
   "language": "python",
   "name": "python3"
  },
  "language_info": {
   "codemirror_mode": {
    "name": "ipython",
    "version": 3
   },
   "file_extension": ".py",
   "mimetype": "text/x-python",
   "name": "python",
   "nbconvert_exporter": "python",
   "pygments_lexer": "ipython3",
   "version": "3.12.3"
  }
 },
 "nbformat": 4,
 "nbformat_minor": 5
}
