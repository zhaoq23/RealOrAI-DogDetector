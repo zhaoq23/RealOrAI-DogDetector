{
 "cells": [
  {
   "cell_type": "markdown",
   "id": "71849eb7",
   "metadata": {},
   "source": [
    "# Final Project"
   ]
  },
  {
   "cell_type": "markdown",
   "id": "0903e101",
   "metadata": {},
   "source": [
    "## Environment Setup"
   ]
  },
  {
   "cell_type": "code",
   "execution_count": 10,
   "id": "3a309623",
   "metadata": {},
   "outputs": [],
   "source": [
    "import os\n",
    "from PIL import Image\n",
    "from tqdm import tqdm\n",
    "import torch\n",
    "from torch.utils.data import Dataset, DataLoader\n",
    "from torchvision import transforms\n",
    "from transformers import AutoFeatureExtractor, AutoModel"
   ]
  },
  {
   "cell_type": "markdown",
   "id": "fa3e6d46",
   "metadata": {},
   "source": [
    "## Custom DogVsAi Dataset Class"
   ]
  },
  {
   "cell_type": "code",
   "execution_count": 11,
   "id": "51fed5c3",
   "metadata": {},
   "outputs": [],
   "source": [
    "class DogVsAiDataset(Dataset):\n",
    "    def __init__(self, root_dir, transform=None):\n",
    "        self.image_dir = os.path.join(root_dir, \"Images\")\n",
    "        self.label_dir = os.path.join(root_dir, \"Labels\")\n",
    "        self.transform = transform\n",
    "        self.image_names = [f.split('.')[0] for f in os.listdir(self.image_dir) if f.endswith('.jpg')]\n",
    "\n",
    "    def __len__(self):\n",
    "        return len(self.image_names)\n",
    "\n",
    "    def __getitem__(self, idx):\n",
    "        name = self.image_names[idx]\n",
    "        image_path = os.path.join(self.image_dir, name + '.jpg')\n",
    "        label_path = os.path.join(self.label_dir, name + '.txt')\n",
    "\n",
    "        image = Image.open(image_path).convert(\"RGB\")\n",
    "        if self.transform:\n",
    "            image = self.transform(image)\n",
    "\n",
    "        with open(label_path, 'r') as f:\n",
    "            label = int(f.read().strip())\n",
    "\n",
    "        return image, label"
   ]
  },
  {
   "cell_type": "markdown",
   "id": "64c6970a",
   "metadata": {},
   "source": [
    "## ViT Feature Extractor Setup: Image Transformations and DINO Model Initialization"
   ]
  },
  {
   "cell_type": "code",
   "execution_count": 12,
   "id": "cb4cdc41",
   "metadata": {},
   "outputs": [
    {
     "data": {
      "application/vnd.jupyter.widget-view+json": {
       "model_id": "7f948587420e4c5d83865fac3aa79429",
       "version_major": 2,
       "version_minor": 0
      },
      "text/plain": [
       "preprocessor_config.json:   0%|          | 0.00/244 [00:00<?, ?B/s]"
      ]
     },
     "metadata": {},
     "output_type": "display_data"
    },
    {
     "name": "stderr",
     "output_type": "stream",
     "text": [
      "/opt/anaconda3/envs/bayes1/lib/python3.10/site-packages/transformers/models/vit/feature_extraction_vit.py:28: FutureWarning: The class ViTFeatureExtractor is deprecated and will be removed in version 5 of Transformers. Please use ViTImageProcessor instead.\n",
      "  warnings.warn(\n"
     ]
    },
    {
     "data": {
      "application/vnd.jupyter.widget-view+json": {
       "model_id": "e71d570dc888435f9c28fa8bc38fc5b9",
       "version_major": 2,
       "version_minor": 0
      },
      "text/plain": [
       "config.json:   0%|          | 0.00/453 [00:00<?, ?B/s]"
      ]
     },
     "metadata": {},
     "output_type": "display_data"
    },
    {
     "data": {
      "application/vnd.jupyter.widget-view+json": {
       "model_id": "bb00c4341161475aa63c179d8291f3e9",
       "version_major": 2,
       "version_minor": 0
      },
      "text/plain": [
       "pytorch_model.bin:   0%|          | 0.00/86.7M [00:00<?, ?B/s]"
      ]
     },
     "metadata": {},
     "output_type": "display_data"
    },
    {
     "name": "stderr",
     "output_type": "stream",
     "text": [
      "Some weights of ViTModel were not initialized from the model checkpoint at facebook/dino-vits16 and are newly initialized: ['pooler.dense.bias', 'pooler.dense.weight']\n",
      "You should probably TRAIN this model on a down-stream task to be able to use it for predictions and inference.\n"
     ]
    },
    {
     "data": {
      "text/plain": [
       "ViTModel(\n",
       "  (embeddings): ViTEmbeddings(\n",
       "    (patch_embeddings): ViTPatchEmbeddings(\n",
       "      (projection): Conv2d(3, 384, kernel_size=(16, 16), stride=(16, 16))\n",
       "    )\n",
       "    (dropout): Dropout(p=0.0, inplace=False)\n",
       "  )\n",
       "  (encoder): ViTEncoder(\n",
       "    (layer): ModuleList(\n",
       "      (0-11): 12 x ViTLayer(\n",
       "        (attention): ViTAttention(\n",
       "          (attention): ViTSelfAttention(\n",
       "            (query): Linear(in_features=384, out_features=384, bias=True)\n",
       "            (key): Linear(in_features=384, out_features=384, bias=True)\n",
       "            (value): Linear(in_features=384, out_features=384, bias=True)\n",
       "          )\n",
       "          (output): ViTSelfOutput(\n",
       "            (dense): Linear(in_features=384, out_features=384, bias=True)\n",
       "            (dropout): Dropout(p=0.0, inplace=False)\n",
       "          )\n",
       "        )\n",
       "        (intermediate): ViTIntermediate(\n",
       "          (dense): Linear(in_features=384, out_features=1536, bias=True)\n",
       "          (intermediate_act_fn): GELUActivation()\n",
       "        )\n",
       "        (output): ViTOutput(\n",
       "          (dense): Linear(in_features=1536, out_features=384, bias=True)\n",
       "          (dropout): Dropout(p=0.0, inplace=False)\n",
       "        )\n",
       "        (layernorm_before): LayerNorm((384,), eps=1e-12, elementwise_affine=True)\n",
       "        (layernorm_after): LayerNorm((384,), eps=1e-12, elementwise_affine=True)\n",
       "      )\n",
       "    )\n",
       "  )\n",
       "  (layernorm): LayerNorm((384,), eps=1e-12, elementwise_affine=True)\n",
       "  (pooler): ViTPooler(\n",
       "    (dense): Linear(in_features=384, out_features=384, bias=True)\n",
       "    (activation): Tanh()\n",
       "  )\n",
       ")"
      ]
     },
     "execution_count": 12,
     "metadata": {},
     "output_type": "execute_result"
    },
    {
     "data": {
      "application/vnd.jupyter.widget-view+json": {
       "model_id": "4c5daf174f3a4ea680df66e674e59fdf",
       "version_major": 2,
       "version_minor": 0
      },
      "text/plain": [
       "model.safetensors:   0%|          | 0.00/86.7M [00:00<?, ?B/s]"
      ]
     },
     "metadata": {},
     "output_type": "display_data"
    }
   ],
   "source": [
    "transform = transforms.Compose([\n",
    "    transforms.Resize((128, 128)),\n",
    "    transforms.ToTensor(),\n",
    "])\n",
    "\n",
    "device = torch.device(\"cuda\" if torch.cuda.is_available() else \"cpu\")\n",
    "\n",
    "dino_model_name = \"facebook/dino-vits16\"\n",
    "feature_extractor = AutoFeatureExtractor.from_pretrained(dino_model_name)\n",
    "dino_model = AutoModel.from_pretrained(dino_model_name).to(device)\n",
    "dino_model.eval()"
   ]
  },
  {
   "cell_type": "markdown",
   "id": "110ed9c8",
   "metadata": {},
   "source": [
    "## Feature Extraction Pipeline and Dataset Processing"
   ]
  },
  {
   "cell_type": "code",
   "execution_count": 31,
   "id": "aaa0770b",
   "metadata": {},
   "outputs": [
    {
     "name": "stdout",
     "output_type": "stream",
     "text": [
      "\n",
      "=== Processing dataset: FULL ===\n",
      "Train: 18605 | Val: 5317 | Test: 2658\n"
     ]
    },
    {
     "name": "stderr",
     "output_type": "stream",
     "text": [
      "Extracting train_full:   0%|          | 0/1163 [00:00<?, ?it/s]/opt/anaconda3/envs/bayes1/lib/python3.10/site-packages/transformers/image_processing_utils.py:42: UserWarning: The following named arguments are not valid for `ViTFeatureExtractor.preprocess` and were ignored: 'padding'\n",
      "  return self.preprocess(images, **kwargs)\n",
      "Extracting train_full: 100%|██████████| 1163/1163 [05:24<00:00,  3.59it/s]\n"
     ]
    },
    {
     "name": "stdout",
     "output_type": "stream",
     "text": [
      "Saved: features_train_full.pt | Shape: torch.Size([18605, 384])\n"
     ]
    },
    {
     "name": "stderr",
     "output_type": "stream",
     "text": [
      "Extracting val_full: 100%|██████████| 333/333 [01:35<00:00,  3.48it/s]\n"
     ]
    },
    {
     "name": "stdout",
     "output_type": "stream",
     "text": [
      "Saved: features_val_full.pt | Shape: torch.Size([5317, 384])\n"
     ]
    },
    {
     "name": "stderr",
     "output_type": "stream",
     "text": [
      "Extracting test_full: 100%|██████████| 167/167 [00:52<00:00,  3.15it/s]"
     ]
    },
    {
     "name": "stdout",
     "output_type": "stream",
     "text": [
      "Saved: features_test_full.pt | Shape: torch.Size([2658, 384])\n"
     ]
    },
    {
     "name": "stderr",
     "output_type": "stream",
     "text": [
      "\n"
     ]
    }
   ],
   "source": [
    "# ======================\n",
    "# Feature Engineering\n",
    "# ======================\n",
    "def extract_and_save_features(dataloader, name_prefix):\n",
    "    all_features = []\n",
    "    all_labels = []\n",
    "\n",
    "    for images, labels in tqdm(dataloader, desc=f\"Extracting {name_prefix}\"):\n",
    "        images = [transforms.ToPILImage()(img) for img in images]\n",
    "        inputs = feature_extractor(images=images, return_tensors=\"pt\", padding=True).to(device)\n",
    "\n",
    "        with torch.no_grad():\n",
    "            outputs = dino_model(**inputs)\n",
    "            features = outputs.last_hidden_state.mean(dim=1)\n",
    "\n",
    "        all_features.append(features.cpu())\n",
    "        all_labels.append(labels)\n",
    "\n",
    "    all_features = torch.cat(all_features)\n",
    "    all_labels = torch.cat(all_labels)\n",
    "\n",
    "    save_path = f\"features_{name_prefix}.pt\"\n",
    "    torch.save((all_features, all_labels), save_path)\n",
    "    print(f\"Saved: {save_path} | Shape: {all_features.shape}\")\n",
    "\n",
    "# ======================\n",
    "# Process dataset\n",
    "# ======================\n",
    "def process_dataset(base_path, suffix):\n",
    "    print(f\"\\n=== Processing dataset: {suffix.upper()} ===\")\n",
    "    train_dataset = DogVsAiDataset(os.path.join(base_path, \"Train\"), transform=transform)\n",
    "    val_dataset   = DogVsAiDataset(os.path.join(base_path, \"Valid\"), transform=transform)\n",
    "    test_dataset  = DogVsAiDataset(os.path.join(base_path, \"Test\"), transform=transform)\n",
    "\n",
    "    train_loader = DataLoader(train_dataset, batch_size=16, shuffle=True)\n",
    "    val_loader   = DataLoader(val_dataset, batch_size=16, shuffle=False)\n",
    "    test_loader  = DataLoader(test_dataset, batch_size=16, shuffle=False)\n",
    "\n",
    "    print(f\"Train: {len(train_dataset)} | Val: {len(val_dataset)} | Test: {len(test_dataset)}\")\n",
    "\n",
    "    extract_and_save_features(train_loader, f\"train_{suffix}\")\n",
    "    extract_and_save_features(val_loader, f\"val_{suffix}\")\n",
    "    extract_and_save_features(test_loader, f\"test_{suffix}\")\n",
    "\n",
    "# ======================\n",
    "# Get features\n",
    "# ======================\n",
    "process_dataset(\"yourpath/archive/Dogs Vs AiDogs\", \"full\")\n",
    "# process_dataset(\"yourpath/archive/Dogs Vs AiDogs_CUTTED\", \"cutted\")"
   ]
  },
  {
   "cell_type": "code",
   "execution_count": 34,
   "id": "3ec6b234",
   "metadata": {},
   "outputs": [
    {
     "name": "stdout",
     "output_type": "stream",
     "text": [
      "torch.Size([18605, 384])\n"
     ]
    },
    {
     "name": "stderr",
     "output_type": "stream",
     "text": [
      "/var/folders/xw/skmf04z90jbgxhhy49sh07s80000gn/T/ipykernel_59783/202935973.py:1: FutureWarning: You are using `torch.load` with `weights_only=False` (the current default value), which uses the default pickle module implicitly. It is possible to construct malicious pickle data which will execute arbitrary code during unpickling (See https://github.com/pytorch/pytorch/blob/main/SECURITY.md#untrusted-models for more details). In a future release, the default value for `weights_only` will be flipped to `True`. This limits the functions that could be executed during unpickling. Arbitrary objects will no longer be allowed to be loaded via this mode unless they are explicitly allowlisted by the user via `torch.serialization.add_safe_globals`. We recommend you start setting `weights_only=True` for any use case where you don't have full control of the loaded file. Please open an issue on GitHub for any issues related to this experimental feature.\n",
      "  features, labels = torch.load(\"features_train_full.pt\")\n"
     ]
    }
   ],
   "source": [
    "features, labels = torch.load(\"features_train_full.pt\")\n",
    "print(features.shape)"
   ]
  },
  {
   "cell_type": "markdown",
   "id": "0e4d4029",
   "metadata": {},
   "source": [
    "# Simple CNN Architecture with Dropout"
   ]
  },
  {
   "cell_type": "code",
   "execution_count": 41,
   "id": "7bf97b2f",
   "metadata": {},
   "outputs": [],
   "source": [
    "import torch.nn as nn\n",
    "import torchvision.models as models\n",
    "\n",
    "class SimpleCNN(nn.Module):\n",
    "    def __init__(self, num_classes=2, dropout_rate=0.3):\n",
    "        super(SimpleCNN, self).__init__()\n",
    "        self.net = nn.Sequential(\n",
    "            nn.Linear(384, 128),\n",
    "            nn.BatchNorm1d(128),\n",
    "            nn.ReLU(),\n",
    "            nn.Dropout(dropout_rate),\n",
    "\n",
    "            nn.Linear(128, 64),\n",
    "            nn.BatchNorm1d(64),\n",
    "            nn.ReLU(),\n",
    "            nn.Dropout(dropout_rate),\n",
    "\n",
    "            nn.Linear(64, num_classes)\n",
    "        )\n",
    "\n",
    "    def forward(self, x):\n",
    "        return self.net(x)\n",
    "\n",
    "def load_model(model_type=\"simple\", num_classes=2, dropout_rate=0.5):\n",
    "    return SimpleCNN(num_classes, dropout_rate)"
   ]
  },
  {
   "cell_type": "markdown",
   "id": "157d5392",
   "metadata": {},
   "source": [
    "# Simple CNN Model Training and Evaluation"
   ]
  },
  {
   "cell_type": "code",
   "execution_count": 42,
   "id": "52c8e94f",
   "metadata": {},
   "outputs": [
    {
     "name": "stderr",
     "output_type": "stream",
     "text": [
      "/var/folders/xw/skmf04z90jbgxhhy49sh07s80000gn/T/ipykernel_59783/2562054780.py:7: FutureWarning: You are using `torch.load` with `weights_only=False` (the current default value), which uses the default pickle module implicitly. It is possible to construct malicious pickle data which will execute arbitrary code during unpickling (See https://github.com/pytorch/pytorch/blob/main/SECURITY.md#untrusted-models for more details). In a future release, the default value for `weights_only` will be flipped to `True`. This limits the functions that could be executed during unpickling. Arbitrary objects will no longer be allowed to be loaded via this mode unless they are explicitly allowlisted by the user via `torch.serialization.add_safe_globals`. We recommend you start setting `weights_only=True` for any use case where you don't have full control of the loaded file. Please open an issue on GitHub for any issues related to this experimental feature.\n",
      "  features_train, labels_train = torch.load(\"features_train_full.pt\")\n",
      "/var/folders/xw/skmf04z90jbgxhhy49sh07s80000gn/T/ipykernel_59783/2562054780.py:8: FutureWarning: You are using `torch.load` with `weights_only=False` (the current default value), which uses the default pickle module implicitly. It is possible to construct malicious pickle data which will execute arbitrary code during unpickling (See https://github.com/pytorch/pytorch/blob/main/SECURITY.md#untrusted-models for more details). In a future release, the default value for `weights_only` will be flipped to `True`. This limits the functions that could be executed during unpickling. Arbitrary objects will no longer be allowed to be loaded via this mode unless they are explicitly allowlisted by the user via `torch.serialization.add_safe_globals`. We recommend you start setting `weights_only=True` for any use case where you don't have full control of the loaded file. Please open an issue on GitHub for any issues related to this experimental feature.\n",
      "  features_val, labels_val = torch.load(\"features_val_full.pt\")\n"
     ]
    },
    {
     "name": "stdout",
     "output_type": "stream",
     "text": [
      "Epoch 1: Train Acc = 0.9468 | Val Acc = 0.9859\n",
      "Epoch 2: Train Acc = 0.9718 | Val Acc = 0.9876\n",
      "Epoch 3: Train Acc = 0.9768 | Val Acc = 0.9878\n",
      "Epoch 4: Train Acc = 0.9787 | Val Acc = 0.9893\n",
      "Epoch 5: Train Acc = 0.9804 | Val Acc = 0.9885\n",
      "Epoch 6: Train Acc = 0.9810 | Val Acc = 0.9855\n",
      "Epoch 7: Train Acc = 0.9839 | Val Acc = 0.9855\n",
      "Epoch 8: Train Acc = 0.9840 | Val Acc = 0.9883\n",
      "Epoch 9: Train Acc = 0.9855 | Val Acc = 0.9891\n",
      "Epoch 10: Train Acc = 0.9859 | Val Acc = 0.9925\n"
     ]
    },
    {
     "data": {
      "image/png": "[encoded data removed]",
      "text/plain": [
       "<Figure size 640x480 with 1 Axes>"
      ]
     },
     "metadata": {},
     "output_type": "display_data"
    }
   ],
   "source": [
    "import torch.optim as optim\n",
    "from torch.utils.data import TensorDataset\n",
    "from sklearn.metrics import accuracy_score\n",
    "import matplotlib.pyplot as plt\n",
    "\n",
    "# load features, labels, dataset\n",
    "features_train, labels_train = torch.load(\"features_train_full.pt\")\n",
    "features_val, labels_val = torch.load(\"features_val_full.pt\")\n",
    "\n",
    "train_dataset = TensorDataset(features_train, labels_train)\n",
    "val_dataset = TensorDataset(features_val, labels_val)\n",
    "\n",
    "train_loader = DataLoader(train_dataset, batch_size=32, shuffle=True)\n",
    "val_loader = DataLoader(val_dataset, batch_size=32)\n",
    "\n",
    "# load model\n",
    "model = SimpleCNN(num_classes=2, dropout_rate=0.5)\n",
    "device = torch.device(\"cuda\" if torch.cuda.is_available() else \"cpu\")\n",
    "model = model.to(device)\n",
    "\n",
    "# loss function and optimizer\n",
    "criterion = nn.CrossEntropyLoss()\n",
    "optimizer = optim.Adam(model.parameters(), lr=1e-3)\n",
    "\n",
    "# training loop\n",
    "train_acc_list = []\n",
    "val_acc_list = []\n",
    "num_epochs = 10\n",
    "\n",
    "for epoch in range(num_epochs):\n",
    "    model.train()\n",
    "    train_preds, train_labels = [], []\n",
    "\n",
    "    for batch_x, batch_y in train_loader:\n",
    "        batch_x, batch_y = batch_x.to(device), batch_y.to(device)\n",
    "        optimizer.zero_grad()\n",
    "        outputs = model(batch_x)\n",
    "        loss = criterion(outputs, batch_y)\n",
    "        loss.backward()\n",
    "        optimizer.step()\n",
    "\n",
    "        train_preds += outputs.argmax(dim=1).cpu().tolist()\n",
    "        train_labels += batch_y.cpu().tolist()\n",
    "\n",
    "    train_acc = accuracy_score(train_labels, train_preds)\n",
    "    train_acc_list.append(train_acc)\n",
    "\n",
    "    # validation\n",
    "    model.eval()\n",
    "    val_preds, val_labels = [], []\n",
    "    with torch.no_grad():\n",
    "        for batch_x, batch_y in val_loader:\n",
    "            batch_x, batch_y = batch_x.to(device), batch_y.to(device)\n",
    "            outputs = model(batch_x)\n",
    "            val_preds += outputs.argmax(dim=1).cpu().tolist()\n",
    "            val_labels += batch_y.cpu().tolist()\n",
    "\n",
    "    val_acc = accuracy_score(val_labels, val_preds)\n",
    "    val_acc_list.append(val_acc)\n",
    "\n",
    "    print(f\"Epoch {epoch+1}: Train Acc = {train_acc:.4f} | Val Acc = {val_acc:.4f}\")\n",
    "\n",
    "# save model\n",
    "torch.save(model.state_dict(), \"simple_cnn_model.pt\")\n",
    "\n",
    "# plot training and validation accuracy\n",
    "plt.plot(train_acc_list, label=\"Train Acc\")\n",
    "plt.plot(val_acc_list, label=\"Val Acc\")\n",
    "plt.xlabel(\"Epoch\")\n",
    "plt.ylabel(\"Accuracy\")\n",
    "plt.legend()\n",
    "plt.title(\"Training vs Validation Accuracy\")\n",
    "plt.grid(True)\n",
    "plt.show()"
   ]
  },
  {
   "cell_type": "code",
   "execution_count": 46,
   "id": "8036636f",
   "metadata": {},
   "outputs": [
    {
     "data": {
      "image/png": "[encoded data removed]",
      "text/plain": [
       "<Figure size 600x500 with 2 Axes>"
      ]
     },
     "metadata": {},
     "output_type": "display_data"
    }
   ],
   "source": [
    "from sklearn.metrics import confusion_matrix, ConfusionMatrixDisplay\n",
    "import seaborn as sns\n",
    "import numpy as np\n",
    "\n",
    "# confusion matrix\n",
    "cm = confusion_matrix(val_labels, val_preds)\n",
    "disp = ConfusionMatrixDisplay(confusion_matrix=cm, display_labels=[\"Dog\", \"AI Dog\"])\n",
    "\n",
    "plt.figure(figsize=(6, 5))\n",
    "sns.heatmap(cm, annot=True, fmt='d', cmap='Blues', xticklabels=[\"Dog\", \"AI Dog\"], yticklabels=[\"Dog\", \"AI Dog\"])\n",
    "plt.xlabel(\"Predicted Label\")\n",
    "plt.ylabel(\"True Label\")\n",
    "plt.title(\"Confusion Matrix on Validation Set\")\n",
    "plt.tight_layout()\n",
    "plt.show()"
   ]
  }
 ],
 "metadata": {
  "kernelspec": {
   "display_name": "ml",
   "language": "python",
   "name": "python3"
  },
  "language_info": {
   "codemirror_mode": {
    "name": "ipython",
    "version": 3
   },
   "file_extension": ".py",
   "mimetype": "text/x-python",
   "name": "python",
   "nbconvert_exporter": "python",
   "pygments_lexer": "ipython3",
   "version": "3.10.13"
  }
 },
 "nbformat": 4,
 "nbformat_minor": 5
}
