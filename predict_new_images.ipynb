{
  "nbformat": 4,
  "nbformat_minor": 0,
  "metadata": {
    "colab": {
      "provenance": []
    },
    "kernelspec": {
      "name": "python3",
      "display_name": "Python 3"
    },
    "language_info": {
      "name": "python"
    }
  },
  "cells": [
    {
      "cell_type": "code",
      "execution_count": null,
      "metadata": {
        "id": "FiaYOgwVYGI0"
      },
      "outputs": [],
      "source": [
        "import torch\n",
        "import argparse\n",
        "from PIL import Image\n",
        "from torchvision import transforms\n",
        "from models import BayesianMLP  # Make sure this is the correct import based on your repo\n",
        "import os\n",
        "\n",
        "# Load image and preprocess it like in training\n",
        "def preprocess_image(image_path):\n",
        "    transform = transforms.Compose([\n",
        "        transforms.Resize((224, 224)),\n",
        "        transforms.ToTensor(),\n",
        "    ])\n",
        "    image = Image.open(image_path).convert(\"RGB\")\n",
        "    return transform(image).unsqueeze(0)  # Add batch dimension\n",
        "\n",
        "# Predict using loaded model\n",
        "def classify_image(model, image_tensor, device):\n",
        "    model.eval()\n",
        "    with torch.no_grad():\n",
        "        image_tensor = image_tensor.to(device)\n",
        "        output = model(image_tensor)\n",
        "        prediction = torch.argmax(output, dim=1).item()\n",
        "        return \"REAL\" if prediction == 0 else \"AI-GENERATED\"\n",
        "\n",
        "def load_model(model_path, device):\n",
        "    model = BayesianMLP()\n",
        "    model.load_state_dict(torch.load(model_path, map_location=device))\n",
        "    model.to(device)\n",
        "    return model\n",
        "\n",
        "if __name__ == \"__main__\":\n",
        "    parser = argparse.ArgumentParser(description=\"Classify an image as Real or AI-generated Dog.\")\n",
        "    parser.add_argument(\"image_path\", type=str, help=\"Path to the image you want to classify\")\n",
        "    parser.add_argument(\"--model\", type=str, default=\"plusdiff_model.pt\", help=\"Path to the trained model\")\n",
        "    args = parser.parse_args()\n",
        "\n",
        "    # Device\n",
        "    device = torch.device(\"cuda\" if torch.cuda.is_available() else \"cpu\")\n",
        "\n",
        "    # Load image\n",
        "    if not os.path.exists(args.image_path):\n",
        "        print(f\"Error: Image file not found at {args.image_path}\")\n",
        "        exit(1)\n",
        "\n",
        "    image_tensor = preprocess_image(args.image_path)\n",
        "\n",
        "    # Load model\n",
        "    model = load_model(args.model, device)\n",
        "\n",
        "    # Classify\n",
        "    result = classify_image(model, image_tensor, device)\n",
        "    print(f\"\\nPrediction: {result}\\n\")"
      ]
    }
  ]
}